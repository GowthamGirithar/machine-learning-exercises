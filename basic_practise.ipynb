{
 "cells": [
  {
   "cell_type": "markdown",
   "metadata": {},
   "source": [
    "Python Learning"
   ]
  },
  {
   "cell_type": "code",
   "execution_count": 1,
   "metadata": {},
   "outputs": [
    {
     "name": "stdout",
     "output_type": "stream",
     "text": [
      "hello how are you\n"
     ]
    }
   ],
   "source": [
    "print(\"hello how are you\")"
   ]
  },
  {
   "cell_type": "code",
   "execution_count": 3,
   "metadata": {},
   "outputs": [
    {
     "name": "stdout",
     "output_type": "stream",
     "text": [
      "Test data\n",
      "a is less than 10\n",
      "0\n",
      "hello 0\n",
      "1\n",
      "hello 2\n",
      "2\n",
      "hello 4\n",
      "3\n",
      "hello 6\n",
      "4\n",
      "hello 8\n",
      "5\n",
      "hello 10\n",
      "6\n",
      "hello 12\n",
      "7\n",
      "hello 14\n",
      "8\n",
      "hello 16\n",
      "9\n",
      "hello 18\n",
      "10\n",
      "6\n",
      "t 19\n",
      "(10, 20)\n",
      "Tuple: (1, 2, 3, 2)\n",
      "Set: {1, 2, 3}\n",
      "Dict with tuple key: {(1, 2, 3, 2): 'tuple as key'}\n",
      "Is 2 in set? True\n"
     ]
    }
   ],
   "source": [
    "name =\"Test data\"\n",
    "\n",
    "print(name)\n",
    "\n",
    "a = int(input(\"enter number\"))\n",
    "\n",
    "\n",
    "if a < 10 :\n",
    "    print(\"a is less than 10\")\n",
    "\n",
    "else :\n",
    "    print (\"a is greater than 10\")\n",
    "\n",
    "def testd(x,y):\n",
    "    return x+y\n",
    "\n",
    "for i in range(10):\n",
    "    print(i)\n",
    "    d= testd(i,i)\n",
    "    print(\"hello\", d)\n",
    "\n",
    "list = [10, 20, 30, 40, 50, \"hello\", \"a\"]\n",
    "\n",
    "print(list[0])\n",
    "\n",
    "map = { \"h\": 1, \"a\":6}\n",
    "\n",
    "print(map[\"a\"])\n",
    "\n",
    "class helper:\n",
    "    def __init__(self, name, age):\n",
    "        self.name = name\n",
    "        self.age = age\n",
    "\n",
    "    def printinfo(self):\n",
    "        print(self.name, self.age)\n",
    "        \n",
    "\n",
    "h = helper(\"t\", 19)\n",
    "h.printinfo()\n",
    "\n",
    "cons= (10,20)\n",
    "print(cons)\n",
    "\n",
    "# Tuple: Ordered, immutable, allows duplicates\n",
    "t = (1, 2, 3, 2)\n",
    "print(\"Tuple:\", t)\n",
    "\n",
    "# Set: Unordered, mutable, no duplicates allowed\n",
    "s = {1, 2, 3, 2}\n",
    "print(\"Set:\", s)\n",
    "\n",
    "# Tuples can be used as dictionary keys, sets cannot\n",
    "d = {t: \"tuple as key\"}\n",
    "print(\"Dict with tuple key:\", d)\n",
    "\n",
    "# Sets useful for membership tests and unique collections\n",
    "print(\"Is 2 in set?\", 2 in s)"
   ]
  },
  {
   "cell_type": "code",
   "execution_count": 2,
   "metadata": {},
   "outputs": [
    {
     "name": "stdout",
     "output_type": "stream",
     "text": [
      "The value of a is True and b is False\n"
     ]
    }
   ],
   "source": [
    "# Boolean\n",
    "\n",
    "a = True\n",
    "b = False\n",
    "print(f'The value of a is {a} and b is {b}')"
   ]
  },
  {
   "cell_type": "markdown",
   "metadata": {},
   "source": [
    "Setup disctionaries with values as int and add all the value "
   ]
  },
  {
   "cell_type": "code",
   "execution_count": 5,
   "metadata": {},
   "outputs": [
    {
     "data": {
      "text/plain": [
       "dict_keys(['A', 'B', 'C'])"
      ]
     },
     "execution_count": 5,
     "metadata": {},
     "output_type": "execute_result"
    }
   ],
   "source": [
    "dict_values= {\n",
    "    'A' : 10,\n",
    "    'B' : 15,\n",
    "    'C' : 20}\n",
    "\n",
    "dict_values.keys()\n"
   ]
  },
  {
   "cell_type": "code",
   "execution_count": 4,
   "metadata": {},
   "outputs": [
    {
     "data": {
      "text/plain": [
       "45"
      ]
     },
     "execution_count": 4,
     "metadata": {},
     "output_type": "execute_result"
    }
   ],
   "source": [
    "sum(dict_values.values())"
   ]
  },
  {
   "cell_type": "code",
   "execution_count": 6,
   "metadata": {},
   "outputs": [
    {
     "name": "stdout",
     "output_type": "stream",
     "text": [
      "False\n",
      "True\n",
      "True\n"
     ]
    }
   ],
   "source": [
    "#Comparision Logic \n",
    "\n",
    "print (  True and False )\n",
    "\n",
    "print ( True or False )\n",
    "\n",
    "print ( not False)"
   ]
  },
  {
   "cell_type": "code",
   "execution_count": 10,
   "metadata": {},
   "outputs": [
    {
     "data": {
      "text/plain": [
       "45"
      ]
     },
     "execution_count": 10,
     "metadata": {},
     "output_type": "execute_result"
    }
   ],
   "source": [
    "# Loops\n",
    "\n",
    "out = 0\n",
    "for v in dict_values.values():\n",
    "    out = out +v\n",
    "\n",
    "out "
   ]
  },
  {
   "cell_type": "code",
   "execution_count": 11,
   "metadata": {},
   "outputs": [
    {
     "name": "stdout",
     "output_type": "stream",
     "text": [
      " key is A and the value is 10\n",
      " key is B and the value is 15\n",
      " key is C and the value is 20\n"
     ]
    }
   ],
   "source": [
    "# iterate through dictionary\n",
    "\n",
    "for k in dict_values:\n",
    "    print(f' key is {k} and the value is {dict_values[k]}')"
   ]
  },
  {
   "cell_type": "code",
   "execution_count": null,
   "metadata": {},
   "outputs": [],
   "source": []
  }
 ],
 "metadata": {
  "kernelspec": {
   "display_name": ".venv",
   "language": "python",
   "name": "python3"
  },
  "language_info": {
   "codemirror_mode": {
    "name": "ipython",
    "version": 3
   },
   "file_extension": ".py",
   "mimetype": "text/x-python",
   "name": "python",
   "nbconvert_exporter": "python",
   "pygments_lexer": "ipython3",
   "version": "3.12.7"
  }
 },
 "nbformat": 4,
 "nbformat_minor": 2
}
